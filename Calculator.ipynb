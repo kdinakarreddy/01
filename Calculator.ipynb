{
  "nbformat": 4,
  "nbformat_minor": 0,
  "metadata": {
    "colab": {
      "provenance": [],
      "authorship_tag": "ABX9TyNodaPwY9Nfaj26SCXFAG/f",
      "include_colab_link": true
    },
    "kernelspec": {
      "name": "python3",
      "display_name": "Python 3"
    },
    "language_info": {
      "name": "python"
    }
  },
  "cells": [
    {
      "cell_type": "markdown",
      "metadata": {
        "id": "view-in-github",
        "colab_type": "text"
      },
      "source": [
        "<a href=\"https://colab.research.google.com/github/kdinakarreddy/01/blob/main/Calculator.ipynb\" target=\"_parent\"><img src=\"https://colab.research.google.com/assets/colab-badge.svg\" alt=\"Open In Colab\"/></a>"
      ]
    },
    {
      "cell_type": "code",
      "execution_count": null,
      "metadata": {
        "colab": {
          "base_uri": "https://localhost:8080/"
        },
        "id": "0GNdXPrm0aEN",
        "outputId": "c0ea0982-41e9-4126-8ac6-af173a682ec0"
      },
      "outputs": [
        {
          "output_type": "stream",
          "name": "stdout",
          "text": [
            "Welcome to Command-Line Calculator!\n",
            "Available operations: + , - , * , /\n",
            "\n",
            "Enter first number: 30\n",
            "Enter operator (+, -, *, /): *\n",
            "Enter second number: 49\n",
            "Result: 30.0 * 49.0 = 1470.0\n",
            "\n",
            "Do you want to perform another calculation? (yes/no): yes\n",
            "\n",
            "Enter first number: 30\n",
            "Enter operator (+, -, *, /): +\n",
            "Enter second number: 200\n",
            "Result: 30.0 + 200.0 = 230.0\n",
            "\n",
            "Do you want to perform another calculation? (yes/no): no\n",
            "Exiting Calculator. Goodbye!\n"
          ]
        }
      ],
      "source": [
        "# Task 1: Build Calculator\n",
        "\n",
        "# Functions for operations\n",
        "def add(x, y):\n",
        "    return x + y\n",
        "\n",
        "def subtract(x, y):\n",
        "    return x - y\n",
        "\n",
        "def multiply(x, y):\n",
        "    return x * y\n",
        "\n",
        "def divide(x, y):\n",
        "    try:\n",
        "        return x / y\n",
        "    except ZeroDivisionError:\n",
        "        return \"Error: Division by zero is not allowed.\"\n",
        "\n",
        "print(\"Welcome to Command-Line Calculator!\")\n",
        "print(\"Available operations: + , - , * , /\")\n",
        "\n",
        "while True:\n",
        "    try:\n",
        "        # Taking inputs\n",
        "        num1 = float(input(\"\\nEnter first number: \"))\n",
        "        operator = input(\"Enter operator (+, -, *, /): \")\n",
        "        num2 = float(input(\"Enter second number: \"))\n",
        "\n",
        "        # Performing operation\n",
        "        if operator == \"+\":\n",
        "            result = add(num1, num2)\n",
        "        elif operator == \"-\":\n",
        "            result = subtract(num1, num2)\n",
        "        elif operator == \"*\":\n",
        "            result = multiply(num1, num2)\n",
        "        elif operator == \"/\":\n",
        "            result = divide(num1, num2)\n",
        "        else:\n",
        "            print(\"Invalid operator! Please use +, -, *, or /.\")\n",
        "            continue\n",
        "\n",
        "        # Display result\n",
        "        print(f\"Result: {num1} {operator} {num2} = {result}\")\n",
        "\n",
        "    except ValueError:\n",
        "        print(\"Invalid input! Please enter numeric values only.\")\n",
        "\n",
        "    # Exit option\n",
        "    choice = input(\"\\nDo you want to perform another calculation? (yes/no): \").lower()\n",
        "    if choice != \"yes\":\n",
        "        print(\"Exiting Calculator. Goodbye!\")\n",
        "        break\n"
      ]
    },
    {
      "cell_type": "code",
      "source": [],
      "metadata": {
        "id": "h9QcKkrR0d1o"
      },
      "execution_count": null,
      "outputs": []
    }
  ]
}